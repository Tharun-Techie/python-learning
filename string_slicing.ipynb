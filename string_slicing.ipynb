{
 "cells": [
  {
   "cell_type": "markdown",
   "metadata": {},
   "source": [
    "slicing operator ':'"
   ]
  },
  {
   "cell_type": "code",
   "execution_count": 3,
   "metadata": {},
   "outputs": [],
   "source": [
    "my_string = 'LearningChampion'"
   ]
  },
  {
   "cell_type": "code",
   "execution_count": 30,
   "metadata": {},
   "outputs": [
    {
     "name": "stdout",
     "output_type": "stream",
     "text": [
      "Champ\n",
      "Champ\n",
      "LearningChamp\n",
      "LannCapo\n",
      "LearningChampion\n"
     ]
    }
   ],
   "source": [
    "print(my_string[8:13:1])\n",
    "\n",
    "print(my_string[8:13])\n",
    "\n",
    "print(my_string[:13])\n",
    "print(my_string[::2])\n",
    "print(my_string[::])"
   ]
  },
  {
   "cell_type": "code",
   "execution_count": 2,
   "metadata": {},
   "outputs": [],
   "source": [
    "# type casting\n",
    "\n",
    "name = \" Brocode\"\n",
    "age = 25\n",
    "gpa = 3.2\n",
    "is_student = True"
   ]
  }
 ],
 "metadata": {
  "kernelspec": {
   "display_name": "base",
   "language": "python",
   "name": "python3"
  },
  "language_info": {
   "codemirror_mode": {
    "name": "ipython",
    "version": 3
   },
   "file_extension": ".py",
   "mimetype": "text/x-python",
   "name": "python",
   "nbconvert_exporter": "python",
   "pygments_lexer": "ipython3",
   "version": "3.11.3"
  }
 },
 "nbformat": 4,
 "nbformat_minor": 2
}
