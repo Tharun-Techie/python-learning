{
 "cells": [
  {
   "cell_type": "markdown",
   "metadata": {},
   "source": [
    "Python Notes"
   ]
  },
  {
   "cell_type": "code",
   "execution_count": 3,
   "metadata": {},
   "outputs": [],
   "source": [
    "my_string = 'LearningChampion'"
   ]
  },
  {
   "cell_type": "code",
   "execution_count": 30,
   "metadata": {},
   "outputs": [
    {
     "name": "stdout",
     "output_type": "stream",
     "text": [
      "Champ\n",
      "Champ\n",
      "LearningChamp\n",
      "LannCapo\n",
      "LearningChampion\n"
     ]
    }
   ],
   "source": [
    "print(my_string[8:13:1])\n",
    "\n",
    "print(my_string[8:13])\n",
    "\n",
    "print(my_string[:13])\n",
    "print(my_string[::2])\n",
    "print(my_string[::])"
   ]
  },
  {
   "cell_type": "code",
   "execution_count": 30,
   "metadata": {},
   "outputs": [
    {
     "name": "stdout",
     "output_type": "stream",
     "text": [
      "<class 'str'>\n",
      "<class 'int'>\n",
      "<class 'float'>\n"
     ]
    }
   ],
   "source": [
    "# type casting = a process of converting from one data type to another datatype\n",
    "\n",
    "name = \" Brocode\"\n",
    "age = 25\n",
    "gpa = 3.2\n",
    "is_student = True\n",
    "\n",
    "print(type(name))\n",
    "print(type(age))\n",
    "print(type(gpa))"
   ]
  },
  {
   "cell_type": "code",
   "execution_count": 31,
   "metadata": {},
   "outputs": [
    {
     "name": "stdout",
     "output_type": "stream",
     "text": [
      "3\n",
      "25.0\n",
      "251\n",
      "<class 'str'>\n"
     ]
    }
   ],
   "source": [
    "print(int(gpa))\n",
    "\n",
    "print(float(age))\n",
    "\n",
    "age =str(age)\n",
    "\n",
    "age += \"1\"\n",
    "print(age)\n",
    "print(type(age))"
   ]
  },
  {
   "cell_type": "code",
   "execution_count": 37,
   "metadata": {},
   "outputs": [
    {
     "name": "stdout",
     "output_type": "stream",
     "text": [
      "False\n"
     ]
    }
   ],
   "source": [
    "name = ''\n",
    "name = bool(name)\n",
    "print(name)"
   ]
  },
  {
   "cell_type": "code",
   "execution_count": null,
   "metadata": {},
   "outputs": [
    {
     "name": "stdout",
     "output_type": "stream",
     "text": [
      "Plese enter a valid name\n"
     ]
    }
   ],
   "source": [
    "name = str(input(\"Enter your name: \"))\n",
    "if bool(name) == False:\n",
    "    print(\"Plese enter a valid name\")\n",
    "else:\n",
    "    print(f'hello {name}')"
   ]
  },
  {
   "cell_type": "code",
   "execution_count": 48,
   "metadata": {},
   "outputs": [
    {
     "name": "stdout",
     "output_type": "stream",
     "text": [
      "27.36\n"
     ]
    }
   ],
   "source": [
    "a = 9.12\n",
    "b = 3\n",
    "\n",
    "print(a*b)"
   ]
  },
  {
   "cell_type": "code",
   "execution_count": 52,
   "metadata": {},
   "outputs": [
    {
     "name": "stdout",
     "output_type": "stream",
     "text": [
      "10 20\n"
     ]
    }
   ],
   "source": [
    "a = 10\n",
    "b = 20\n",
    "\n",
    "print(a,b)"
   ]
  },
  {
   "cell_type": "code",
   "execution_count": 2,
   "metadata": {},
   "outputs": [
    {
     "data": {
      "text/plain": [
       "0.0"
      ]
     },
     "execution_count": 2,
     "metadata": {},
     "output_type": "execute_result"
    }
   ],
   "source": [
    "#Augmented Assignment \n",
    "\n",
    "friends = 0\n",
    "\n",
    "friends = friends + 1\n",
    "friends += 1\n",
    "\n",
    "friends = friends -1\n",
    "friends -= 1\n",
    "\n",
    "friends /= 1\n",
    "\n",
    "friends *= 2\n",
    "\n",
    "\n",
    "friends"
   ]
  },
  {
   "cell_type": "code",
   "execution_count": 6,
   "metadata": {},
   "outputs": [
    {
     "name": "stdout",
     "output_type": "stream",
     "text": [
      "[1, 10, 19, 28, 37, 46, 55, 64, 73, 82, 91]\n"
     ]
    }
   ],
   "source": [
    "# list comprehensions\n",
    "\n",
    "li = []\n",
    "\n",
    "for x in range(100):\n",
    "    if x % 9 == 1:\n",
    "        li.append(x)\n",
    "        \n",
    "print(li)"
   ]
  },
  {
   "cell_type": "code",
   "execution_count": 17,
   "metadata": {},
   "outputs": [
    {
     "name": "stdout",
     "output_type": "stream",
     "text": [
      "[0, 1, 2, 3, 4, 5, 6, 7, 8, 9, 10, 11, 12, 13, 14, 15, 16, 17, 18, 19]\n"
     ]
    }
   ],
   "source": [
    "li = [x for x in range(20)]\n",
    "\n",
    "print(li)"
   ]
  },
  {
   "cell_type": "code",
   "execution_count": 26,
   "metadata": {},
   "outputs": [
    {
     "name": "stdout",
     "output_type": "stream",
     "text": [
      "[0, 2, 4, 6, 8, 10, 12, 14, 16, 18, 20, 22, 24, 26, 28, 30, 32, 34, 36, 38, 40, 42, 44, 46, 48]\n"
     ]
    }
   ],
   "source": [
    "li = [is_even for is_even in range(49) if is_even % 2 ==0 ]\n",
    "\n",
    "print(li)"
   ]
  },
  {
   "cell_type": "code",
   "execution_count": null,
   "metadata": {},
   "outputs": [
    {
     "name": "stdout",
     "output_type": "stream",
     "text": [
      "out of stock\n",
      "thanks For Purchasing , Plese come back\n"
     ]
    }
   ],
   "source": [
    "# break continue pass\n",
    "\n",
    "x = int(input(\"How many candies you want:\"))\n",
    "available = 6\n",
    "\n",
    "while x != 0:\n",
    "    if x > available:\n",
    "        print(\"out of stock\")\n",
    "        break\n",
    "    print(\"candy\")\n",
    "    x-=1\n",
    "\n"
   ]
  }
 ],
 "metadata": {
  "kernelspec": {
   "display_name": "base",
   "language": "python",
   "name": "python3"
  },
  "language_info": {
   "codemirror_mode": {
    "name": "ipython",
    "version": 3
   },
   "file_extension": ".py",
   "mimetype": "text/x-python",
   "name": "python",
   "nbconvert_exporter": "python",
   "pygments_lexer": "ipython3",
   "version": "3.11.3"
  }
 },
 "nbformat": 4,
 "nbformat_minor": 2
}
