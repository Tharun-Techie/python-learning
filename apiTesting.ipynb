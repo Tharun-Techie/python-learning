{
 "cells": [
  {
   "cell_type": "code",
   "execution_count": 3,
   "metadata": {},
   "outputs": [
    {
     "name": "stdout",
     "output_type": "stream",
     "text": [
      "Hello World\n"
     ]
    }
   ],
   "source": [
    "print(\"Hello World\")"
   ]
  },
  {
   "cell_type": "code",
   "execution_count": null,
   "metadata": {},
   "outputs": [
    {
     "ename": "ExpatError",
     "evalue": "not well-formed (invalid token): line 1, column 1",
     "output_type": "error",
     "traceback": [
      "\u001b[1;31m---------------------------------------------------------------------------\u001b[0m",
      "\u001b[1;31mExpatError\u001b[0m                                Traceback (most recent call last)",
      "Cell \u001b[1;32mIn[10], line 14\u001b[0m\n\u001b[0;32m      9\u001b[0m response \u001b[38;5;241m=\u001b[39m requests\u001b[38;5;241m.\u001b[39mget(url\u001b[38;5;241m=\u001b[39murl)\n\u001b[0;32m     12\u001b[0m data \u001b[38;5;241m=\u001b[39m response\u001b[38;5;241m.\u001b[39mtext\n\u001b[1;32m---> 14\u001b[0m converter \u001b[38;5;241m=\u001b[39m \u001b[43mxmltodict\u001b[49m\u001b[38;5;241;43m.\u001b[39;49m\u001b[43mparse\u001b[49m\u001b[43m(\u001b[49m\u001b[43mdata\u001b[49m\u001b[43m)\u001b[49m\n\u001b[0;32m     16\u001b[0m dictData \u001b[38;5;241m=\u001b[39m json\u001b[38;5;241m.\u001b[39mdumps(converter)\n\u001b[0;32m     17\u001b[0m \u001b[38;5;28mprint\u001b[39m(dictData)\n",
      "File \u001b[1;32mc:\\Users\\THARUN\\Documents\\Python Project\\python-learning\\myenv\\Lib\\site-packages\\xmltodict.py:359\u001b[0m, in \u001b[0;36mparse\u001b[1;34m(xml_input, encoding, expat, process_namespaces, namespace_separator, disable_entities, process_comments, **kwargs)\u001b[0m\n\u001b[0;32m    357\u001b[0m     parser\u001b[38;5;241m.\u001b[39mParse(\u001b[38;5;124mb\u001b[39m\u001b[38;5;124m'\u001b[39m\u001b[38;5;124m'\u001b[39m, \u001b[38;5;28;01mTrue\u001b[39;00m)\n\u001b[0;32m    358\u001b[0m \u001b[38;5;28;01melse\u001b[39;00m:\n\u001b[1;32m--> 359\u001b[0m     \u001b[43mparser\u001b[49m\u001b[38;5;241;43m.\u001b[39;49m\u001b[43mParse\u001b[49m\u001b[43m(\u001b[49m\u001b[43mxml_input\u001b[49m\u001b[43m,\u001b[49m\u001b[43m \u001b[49m\u001b[38;5;28;43;01mTrue\u001b[39;49;00m\u001b[43m)\u001b[49m\n\u001b[0;32m    360\u001b[0m \u001b[38;5;28;01mreturn\u001b[39;00m handler\u001b[38;5;241m.\u001b[39mitem\n",
      "\u001b[1;31mExpatError\u001b[0m: not well-formed (invalid token): line 1, column 1"
     ]
    }
   ],
   "source": [
    "# url = \"https://rawcdn.githack.com/kamikazechaser/administrative-divisions-db/master/api/KE.json\"\n"
   ]
  },
  {
   "cell_type": "code",
   "execution_count": null,
   "metadata": {},
   "outputs": [
    {
     "name": "stdout",
     "output_type": "stream",
     "text": [
      "Response may not be in XML format.\n"
     ]
    }
   ],
   "source": [
    "import requests\n",
    "\n",
    "url = \"\"\"https://api.worldbank.org/v2/topic\"\"\"\n",
    "response = requests.get(url=url)\n",
    "\n",
    "# Check if content type is application/xml\n",
    "if 'application/xml' in response.headers.get('Content-Type'):\n",
    "    print(\"Response is likely in XML format.\")\n",
    "else:\n",
    "    print(\"Response may not be in XML format.\")\n"
   ]
  },
  {
   "cell_type": "code",
   "execution_count": 47,
   "metadata": {},
   "outputs": [
    {
     "name": "stdout",
     "output_type": "stream",
     "text": [
      "<class 'dict'>\n",
      "<class 'str'>\n",
      "<class 'type'>\n",
      "False\n",
      "False\n",
      "False\n",
      "False\n",
      "False\n",
      "False\n",
      "False\n",
      "False\n",
      "False\n",
      "False\n",
      "False\n",
      "False\n",
      "False\n",
      "False\n",
      "False\n",
      "False\n",
      "False\n",
      "False\n",
      "False\n",
      "False\n",
      "False\n",
      "False\n",
      "False\n",
      "False\n",
      "False\n",
      "False\n",
      "False\n",
      "False\n",
      "False\n"
     ]
    }
   ],
   "source": [
    "import requests, json\n",
    "url = \"\"\"https://chatgpt.com\"\"\"\n",
    "response = requests.get(url=url)\n",
    "data = response.headers\n",
    "\n",
    "dictHeaders = dict(data.items())\n",
    "\n",
    "jsondata = (json.dumps(dictHeaders,indent=4))\n",
    "\n",
    "print(type(dictHeaders))\n",
    "print(type(jsondata))\n",
    "\n",
    "testing = json.loads(jsondata)\n",
    "print(type(type(testing)))\n",
    "\n",
    "for key in testing:\n",
    "    print(type(key)==\"dict\")\n",
    "\n"
   ]
  }
 ],
 "metadata": {
  "kernelspec": {
   "display_name": "myenv",
   "language": "python",
   "name": "python3"
  },
  "language_info": {
   "codemirror_mode": {
    "name": "ipython",
    "version": 3
   },
   "file_extension": ".py",
   "mimetype": "text/x-python",
   "name": "python",
   "nbconvert_exporter": "python",
   "pygments_lexer": "ipython3",
   "version": "3.11.3"
  }
 },
 "nbformat": 4,
 "nbformat_minor": 2
}
